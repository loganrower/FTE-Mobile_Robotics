{
 "cells": [
  {
   "cell_type": "code",
   "execution_count": 4,
   "id": "6ba183b8",
   "metadata": {},
   "outputs": [],
   "source": [
    "import numpy as np\n",
    "import matplotlib.pyplot as plt\n",
    "from scipy.interpolate import interp1d\n",
    "\n",
    "import t04_utils as util"
   ]
  },
  {
   "cell_type": "markdown",
   "id": "b84580a0",
   "metadata": {},
   "source": [
    "# 1: The bicycle model (car-like vehicle)"
   ]
  },
  {
   "cell_type": "markdown",
   "id": "6aaf67ad",
   "metadata": {},
   "source": [
    "<img src=\"https://git.wur.nl/koots006/msc_course_robotics/raw/main/pictures/fig4_1.svg\" width=500>\n",
    "\n",
    "The picture to the left gives the vehicle model. We assume a car model (the closed boxes), which can be simplified to a bicycle model (the open boxes). This allow to ignore the width of the vehicle. The length $L$, also called the wheel base, is a relevant parameter defining the model.\n",
    "\n",
    "The origin of the vehicle is in the middle of the rear wheels, which is at position $(x,y)$. The vehicle's heading is defined by the angle $\\theta$. The vehicle can change heading using the steering wheels, with a steering angle, $\\gamma$. And it has a speed, $v$.\n",
    "\n",
    "If the steering angle $\\gamma \\ne 0$, the vehicle rotates around the point ICR. This point is the intersection of the perpendicular line through the rear wheel and the perpendicular line through the steering wheel.\n",
    "\n",
    "The state of the vehicle at time $t$ is $s_t = [x,y,\\theta]$, holding the position, $(x,y)$ (in m), and the heading, $\\theta$ (in rad), of the vehicle. \n",
    "\n",
    "This vehicle has a velocity that is only forwards/backwards (in the $x$-direction of the robot) and not lateral ($y$-direction). That is:\n",
    "\n",
    "$$\n",
    "{}^B \\textbf{v} = \\left(v,0)\\right),\n",
    "$$\n",
    "where $B$ is the body coordinate frame of the robot.\n",
    "This assumption makes the robot **non-holonomic**, meaning that it cannot move in all possible directions."
   ]
  },
  {
   "cell_type": "markdown",
   "id": "ae087adf",
   "metadata": {},
   "source": [
    "The **kinematic model** relates the controls of the robot ($\\gamma$ and $v$) to the linear velocity $\\dot{x}$ and $\\dot{y}$ and to the angular velocity $\\dot{\\theta}$. \n",
    "\n",
    "For the bicycle model, the kinematic model is:\n",
    "\n",
    "$$\n",
    "\\color{blue}{\n",
    "\\begin{matrix}\n",
    "\\dot{x} =& v \\cos \\theta \\\\\n",
    "\\dot{y} =& v \\sin \\theta \\\\\n",
    "\\dot{\\theta} =& \\frac{v}{L}\\tan \\gamma\n",
    "\\end{matrix} }\n",
    "$$\n",
    "with $\\dot{x}$ and $\\dot{y}$ in $\\mathrm{m\\cdot s}^{-1}$ and $\\dot{\\theta}$ in $\\mathrm{rad\\cdot s}^{-1}$.\n",
    "\n",
    "There are a few constraints that we add to the model:\n",
    "* A maximum speed: $v < 5$\n",
    "* A limit on the steering angle: $\\gamma \\in [-1, 1]$\n",
    "\n",
    "In this section, we will implement the kinematic model and use it to visualize the trajectory of the robot."
   ]
  },
  {
   "cell_type": "markdown",
   "id": "5330c31d",
   "metadata": {},
   "source": [
    "**Exercise:**\n",
    "* In the code block below, you can find a skeleton for a function to implement the kinematic model for the bicycle model. Finish the code based on the equations provided above.\n",
    "    * As input\n",
    "        * `state` is a numpy array of length 3 containing: $[x_t, y_t, \\theta_t]$\n",
    "        * `v` is the linear velocity, $v$\n",
    "        * `g` is the steering angle $\\gamma$\n",
    "        * `L` is the wheel base $L$\n",
    "    * As output\n",
    "        * The numpy array `[dx, dy, dt]` containing $[\\dot{x}_t, \\dot{y}_t, \\dot{\\theta}_t]$\n",
    "        * The velocity `v` and steering angle `g` used."
   ]
  },
  {
   "cell_type": "code",
   "execution_count": 2,
   "id": "630cb244",
   "metadata": {},
   "outputs": [],
   "source": [
    "def bicycle(state, v, g, L, vmax=5, gmax=1):\n",
    "    # Set the limits on the speed and the steering angle\n",
    "    v = np.clip(v, 0, vmax)\n",
    "    g = np.clip(g, -gmax, gmax)\n",
    "    \n",
    "    # Get the linear and angular velocities\n",
    "    dx = ...\n",
    "    dy = ...\n",
    "    dt = ...\n",
    "    \n",
    "    return np.array([dx, dy, dt]), v, g"
   ]
  },
  {
   "cell_type": "markdown",
   "id": "fb343f0b",
   "metadata": {},
   "source": [
    "**ANSWER**"
   ]
  },
  {
   "cell_type": "code",
   "execution_count": 1,
   "id": "d0e04a4b",
   "metadata": {},
   "outputs": [],
   "source": [
    "def bicycle(state, v, g, L, vmax=5, gmax=1):\n",
    "    # Set the limits on the speed and the steering angle\n",
    "    v = np.clip(v, 0, vmax)\n",
    "    g = np.clip(g, -gmax, gmax)\n",
    "    \n",
    "    dx = v*np.cos(state[2])\n",
    "    dy = v*np.sin(state[2])\n",
    "    dt = v/L * np.tan(g)\n",
    "    \n",
    "    return np.array([dx, dy, dt]), v, g"
   ]
  },
  {
   "cell_type": "markdown",
   "id": "bf0ab5b4",
   "metadata": {},
   "source": [
    "The bicycle model calculates the linear and angular velocities at time $t$: $[\\dot{x}_t, \\dot{y}_t, \\dot{\\theta}_t]$. Based on these velocities, the next state can be calculated using the so-called *Euler integration scheme*:\n",
    "\n",
    "$$\n",
    "\\mathbf{s}_{t+1} = \\mathbf{s}_t + \\dot{\\mathbf{s}}_t \\cdot \\Delta t\n",
    "$$\n",
    "which, split up for the individual elements of the state vector is:\n",
    "\n",
    "$$\n",
    "x_{t+1} = x_t + \\dot{x}_t \\cdot \\Delta t \\\\\n",
    "y_{t+1} = y_t + \\dot{y}_t \\cdot \\Delta t \\\\\n",
    "\\theta_{t+1} = \\theta_t + \\dot{\\theta}_t \\cdot \\Delta t,\n",
    "$$\n",
    "where $\\Delta t$ is the time step.\n",
    "\n",
    "**Exercise:**\n",
    "* The function below calculates the sequence of states defining the trajectory of the robot based on a velocity profile `V` and a profile for the steering angle `G`.\n",
    "* Study the function to find where the above equations are calculated"
   ]
  },
  {
   "cell_type": "code",
   "execution_count": 2,
   "id": "8f3fa0f1",
   "metadata": {},
   "outputs": [],
   "source": [
    "def simBicycle(state_0, time, V, G, L):\n",
    "    states = np.zeros((len(time)+1, 3))\n",
    "    states[0,:] = state_0\n",
    "    state = state_0\n",
    "    dT = time[1]-time[0]\n",
    "\n",
    "    for i,(t,v,g) in enumerate(zip(time,V,G)):\n",
    "        vel, v, g = bicycle(state, v, g, L)\n",
    "        state += vel*dT\n",
    "        states[i+1,:] = state\n",
    "\n",
    "    return(states)"
   ]
  },
  {
   "cell_type": "code",
   "execution_count": 2,
   "id": "91972fda",
   "metadata": {},
   "outputs": [
    {
     "name": "stdout",
     "output_type": "stream",
     "text": [
      "10\n",
      "20\n",
      "30\n",
      "40\n",
      "50\n",
      "60\n",
      "70\n",
      "80\n",
      "90\n",
      "100\n",
      "110\n",
      "120\n",
      "130\n",
      "140\n",
      "150\n",
      "160\n",
      "170\n",
      "180\n",
      "190\n",
      "200\n"
     ]
    }
   ],
   "source": [
    "for i in range(10,210,10):\n",
    "    print(i)"
   ]
  },
  {
   "cell_type": "markdown",
   "id": "b36c7405",
   "metadata": {},
   "source": [
    "The code below performs a simulation of the bicycle model given:\n",
    "* a profile for the velocity `V`$=\\{v_1, \\ldots, v_T\\}$ and steering angle `G`$=\\{\\gamma_1, \\ldots, \\gamma_T\\}$. \n",
    "* the time step for the simulation (default: `dT` = 0.1s) and the total duration of the simulation (default: `T` = 10s). \n",
    "* the wheel length `L`.\n",
    "* the starting pose `state_0` = $[0,0,0]$\n",
    "* the profile for the velocity and steering angle is the same as in Fig 4.3 in the book. The velocity is fixed, set to 1.0, and the steering angle is first 0.0 (straight), the 0.5 (left turn), 0.0, -0.5 (right turn) and 0.0.\n",
    "\n",
    "**Exercise:**\n",
    "* Check the content of the matrix `states`. How many rows and how many columns does it contain and what are the meanings of the different rows and columns?\n",
    "* Change the profiles for the velocity and steering angle and observe the resulting trajectory of the robot. Make sue that the lenght of the arrays `V` and `G` are of the same length as `time` (default: 100)\n",
    "* Make a profile that makes the robot drive in a rectangle with left turns (approximately 90-degree angles is ok).\n",
    "* Change the wheel length `L` to a larger number. Before you do, think what the consequence of that will be. Also try a lower number.\n",
    "\n"
   ]
  },
  {
   "cell_type": "code",
   "execution_count": 5,
   "id": "36a8def6",
   "metadata": {},
   "outputs": [
    {
     "data": {
      "image/png": "[encoded data removed]",
      "text/plain": [
       "<Figure size 1000x500 with 4 Axes>"
      ]
     },
     "metadata": {},
     "output_type": "display_data"
    }
   ],
   "source": [
    "dT = 0.1  # The time step for simulation\n",
    "T = 10    # Number of seconds to simulate\n",
    "time = np.arange(0,T,step=dT)\n",
    "\n",
    "# Set the profiles for speed and the steering angle \n",
    "V = np.full(len(time),1.0)\n",
    "#G = np.hstack((np.full(30, 0), np.full(10,0.5), np.full(10,0), np.full(10,-0.5), np.full(40,0)))\n",
    "G = np.hstack((np.full(10, 0), np.full(10,1), np.full(10,0), np.full(10,1), np.full(10, 0), np.full(10,1), np.full(10, 0), np.full(10,1), np.full(20,0) ))\n",
    "# Set the wheel base\n",
    "L = 1\n",
    "\n",
    "# Initialize the state\n",
    "state_0 = np.array([0.0,0.0,0.0])\n",
    "\n",
    "# Run the simulation\n",
    "states = simBicycle(state_0, time, V, G, L)\n",
    "\n",
    "# Show the output of the simulation\n",
    "util.showTrajectoryBicycle(time, states, G)"
   ]
  },
  {
   "cell_type": "markdown",
   "id": "cfa6abee",
   "metadata": {},
   "source": [
    "**ANSWER:**\n",
    "* The matrix `states` is of size `len(time)+1 x 3`. Every row contains a state, from $s_0$ until $s_T$. The first colum is the x-position, the second the y-position and the third the orientation of the robot\n",
    "* `G = np.hstack((np.full(10, 0), np.full(10,1), np.full(10,0), np.full(10,1), np.full(10, 0), np.full(10,1), np.full(10, 0), np.full(10,1), np.full(20,0) ))`\n",
    "* With a larger wheel length, the same steering angle will result in a smaller angular velocity: \n",
    "$\\dot{\\theta} = \\frac{v}{L}\\tan \\gamma$"
   ]
  },
  {
   "cell_type": "markdown",
   "id": "4eb197ab",
   "metadata": {},
   "source": [
    "# 2: Controler to move to a goal position"
   ]
  },
  {
   "cell_type": "markdown",
   "id": "eee71f5e",
   "metadata": {},
   "source": [
    "Consider the problem of moving to a point $(x^*,y^*)$. With a **proportional (P) controller**, we can set the velocity proportional to the distance (or position error) from the goal:\n",
    "\n",
    "$$\n",
    "v^* = K_v \\sqrt{\\left(x^*-x\\right)^2+\\left(y^*-y\\right)^2},\n",
    "$$\n",
    "\n",
    "where $K_v>0$ is the gain for the velocity control.\n",
    "\n",
    "To control the steering angle, we need to look at the angle of the goal relative to the robot, which is:\n",
    "\n",
    "$$\n",
    "\\theta^* = \\tan^{-1}\\frac{y^*-y}{x^*-x}\n",
    "$$\n",
    "This can then be used for a proportional controller for the steering angle, which is proportional to the heading error:\n",
    "\n",
    "$$\n",
    "\\gamma = K_h\\left(\\theta^* \\circleddash \\theta\\right)\n",
    "$$\n",
    "where $K_h>0$ is the gain for the heading control and $\\circleddash$ is the angular difference, which ensures to be in the interval $[-\\pi,\\pi)$.\n",
    "\n",
    "\n",
    "Let's take this model in practice:"
   ]
  },
  {
   "cell_type": "markdown",
   "id": "eae5f905",
   "metadata": {},
   "source": [
    "**Exercise**\n",
    "* The function `controllerToPoint()` below forms a basis for you to implement the controller to move to a point. Implement the function using these hints:\n",
    "    * Calculate the distance from the current position of the robot (in `state[0:2]`) to the goal position.\n",
    "    * Calculate the heading form the robot towards the goal. This is $\\theta^*$ in the equations above\n",
    "    * Calculate the desired velocity `v`, which is $v^*$ in the equations above\n",
    "    * The calculation of the steering angle $\\gamma$ is already given using the function `angdiff` to get an angle in $[-\\pi,\\pi)$.\n",
    "    * Run the code and see if the right `v,g` are printed (1.118, 1.855). If not, you made an error in the previous that you need to correct"
   ]
  },
  {
   "cell_type": "code",
   "execution_count": 6,
   "id": "04fffa0a",
   "metadata": {},
   "outputs": [
    {
     "ename": "AttributeError",
     "evalue": "'ellipsis' object has no attribute 'arctan2'",
     "output_type": "error",
     "traceback": [
      "\u001b[0;31m---------------------------------------------------------------------------\u001b[0m",
      "\u001b[0;31mAttributeError\u001b[0m                            Traceback (most recent call last)",
      "\u001b[0;32m/var/folders/kt/_gfxrqkd0yd8bzfx8gyqgk4r0000gn/T/ipykernel_41707/543208651.py\u001b[0m in \u001b[0;36m<module>\u001b[0;34m\u001b[0m\n\u001b[1;32m     24\u001b[0m \u001b[0mKv\u001b[0m \u001b[0;34m=\u001b[0m \u001b[0;36m0.5\u001b[0m\u001b[0;34m\u001b[0m\u001b[0;34m\u001b[0m\u001b[0m\n\u001b[1;32m     25\u001b[0m \u001b[0mKh\u001b[0m \u001b[0;34m=\u001b[0m \u001b[0;36m4\u001b[0m\u001b[0;34m\u001b[0m\u001b[0;34m\u001b[0m\u001b[0m\n\u001b[0;32m---> 26\u001b[0;31m \u001b[0mv\u001b[0m\u001b[0;34m,\u001b[0m \u001b[0mg\u001b[0m \u001b[0;34m=\u001b[0m \u001b[0mcontrollerToPoint\u001b[0m\u001b[0;34m(\u001b[0m\u001b[0mgoal\u001b[0m\u001b[0;34m,\u001b[0m \u001b[0mstate\u001b[0m\u001b[0;34m,\u001b[0m \u001b[0mKv\u001b[0m\u001b[0;34m,\u001b[0m \u001b[0mKh\u001b[0m\u001b[0;34m)\u001b[0m\u001b[0;34m\u001b[0m\u001b[0;34m\u001b[0m\u001b[0m\n\u001b[0m\u001b[1;32m     27\u001b[0m \u001b[0mprint\u001b[0m\u001b[0;34m(\u001b[0m\u001b[0mv\u001b[0m\u001b[0;34m,\u001b[0m\u001b[0mg\u001b[0m\u001b[0;34m)\u001b[0m\u001b[0;34m\u001b[0m\u001b[0;34m\u001b[0m\u001b[0m\n",
      "\u001b[0;32m/var/folders/kt/_gfxrqkd0yd8bzfx8gyqgk4r0000gn/T/ipykernel_41707/543208651.py\u001b[0m in \u001b[0;36mcontrollerToPoint\u001b[0;34m(goal, state, Kv, Kh)\u001b[0m\n\u001b[1;32m     10\u001b[0m     \u001b[0;31m# Calculate the distance and heading towards the goal\u001b[0m\u001b[0;34m\u001b[0m\u001b[0;34m\u001b[0m\u001b[0;34m\u001b[0m\u001b[0m\n\u001b[1;32m     11\u001b[0m     \u001b[0md\u001b[0m \u001b[0;34m=\u001b[0m \u001b[0;34m...\u001b[0m\u001b[0;34m\u001b[0m\u001b[0;34m\u001b[0m\u001b[0m\n\u001b[0;32m---> 12\u001b[0;31m     \u001b[0mh\u001b[0m \u001b[0;34m=\u001b[0m \u001b[0mnp\u001b[0m\u001b[0;34m.\u001b[0m\u001b[0marctan2\u001b[0m\u001b[0;34m(\u001b[0m\u001b[0;34m...\u001b[0m\u001b[0;34m,\u001b[0m \u001b[0;34m...\u001b[0m\u001b[0;34m)\u001b[0m\u001b[0;34m\u001b[0m\u001b[0;34m\u001b[0m\u001b[0m\n\u001b[0m\u001b[1;32m     13\u001b[0m \u001b[0;34m\u001b[0m\u001b[0m\n\u001b[1;32m     14\u001b[0m     \u001b[0;31m# Calculate the desired velocity proportional to the distance error\u001b[0m\u001b[0;34m\u001b[0m\u001b[0;34m\u001b[0m\u001b[0;34m\u001b[0m\u001b[0m\n",
      "\u001b[0;31mAttributeError\u001b[0m: 'ellipsis' object has no attribute 'arctan2'"
     ]
    }
   ],
   "source": [
    "def angdiff(a, b):\n",
    "    r = (b - a) \n",
    "    if (r >= np.pi):\n",
    "        r -= 2*np.pi\n",
    "    elif (r < -np.pi):\n",
    "        r += 2*np.pi\n",
    "    return r\n",
    "\n",
    "def controllerToPoint(goal, state, Kv, Kh):\n",
    "    # Calculate the distance and heading towards the goal\n",
    "    d = ...\n",
    "    h = np.arctan2(..., ...)\n",
    "    \n",
    "    # Calculate the desired velocity proportional to the distance error\n",
    "    v = ...\n",
    "    # Calculate the steering angle proportional to the heading error\n",
    "    g = Kh * angdiff(state[2], h)\n",
    "    \n",
    "    return v,g\n",
    "\n",
    "# To test the function. The output should be (1.118, 1.855)\n",
    "goal = np.array([5.0,5.0])\n",
    "state = np.array([7.0,6.0,np.pi])\n",
    "Kv = 0.5\n",
    "Kh = 4\n",
    "v, g = controllerToPoint(goal, state, Kv, Kh)\n",
    "print(v,g)"
   ]
  },
  {
   "cell_type": "markdown",
   "id": "855d9878",
   "metadata": {},
   "source": [
    "**ANSWER:**"
   ]
  },
  {
   "cell_type": "code",
   "execution_count": 8,
   "id": "83c969d8",
   "metadata": {},
   "outputs": [
    {
     "name": "stdout",
     "output_type": "stream",
     "text": [
      "2.23606797749979\n",
      "1.118033988749895 1.8545904360032246\n"
     ]
    }
   ],
   "source": [
    "def angdiff(a, b):\n",
    "    r = (b - a) \n",
    "    if (r >= np.pi):\n",
    "        r -= 2*np.pi\n",
    "    elif (r < -np.pi):\n",
    "        r += 2*np.pi\n",
    "    return r\n",
    "\n",
    "def controllerToPoint(goal, state, Kv, Kh):\n",
    "    # Calculate the distance and heading  towards the goal\n",
    "    d = np.linalg.norm(goal-state[0:2])\n",
    "    print(d)\n",
    "    h = np.arctan2(goal[1]-state[1], goal[0]-state[0])\n",
    "    \n",
    "    # Calculate the desired velocity proportional to the distance error\n",
    "    v = Kv * d\n",
    "    # Calculate the steering angle proportional to the heading error\n",
    "    g = Kh * angdiff(state[2], h)\n",
    "    \n",
    "    return v,g\n",
    "\n",
    "# To test the function. The output should be (1.118, 1.855)\n",
    "goal = np.array([5.0,5.0])\n",
    "state = np.array([7.0,6.0,np.pi])\n",
    "Kv = 0.5\n",
    "Kh = 4\n",
    "v, g = controllerToPoint(goal, state, Kv, Kh)\n",
    "print(v,g)"
   ]
  },
  {
   "cell_type": "markdown",
   "id": "ed7e18df",
   "metadata": {},
   "source": [
    "Now that we implemented the controller, we can test it. In the code below, a goal is set at $(5,5)$ and the robot's initial position is at $(8,5)$. Using the gains $K_v=0.5$ and $K_h=4$, and a wheel length $L=1$, the trajectory of the robot over 10s with a time step of 0.1s is shown.\n",
    "\n",
    "**Exercise:**\n",
    "* Run the code. You see the robot's trajectory on the left, with the color n the trajectory indicating time, from 0 (dark blue) to T (dark red). The velocity and steering angle over time are on the right.\n",
    "* Look at the velocity and steering angle over time, what do you see?\n",
    "* What do you expect will happen when the gain for the heading $K_h$ is lowered to $K_h=1$? Try it.\n",
    "* Put the gain back to $K_h=4$. \n",
    "* Try a higher and lower gain for the velocity $K_v$. Which differences do you see? \n",
    "* Put it back to $K_v=0.5$.\n",
    "* Move the goal closer to the robot, at $(7,5)$, and see what happens. Can you explain this? Does it help if you increase $K_h$? Why not?\n",
    "* Decrease the wheel base $L$. Can the target now be reached?"
   ]
  },
  {
   "cell_type": "code",
   "execution_count": 8,
   "id": "d8015cd3",
   "metadata": {},
   "outputs": [
    {
     "data": {
      "image/png": "[encoded data removed]",
      "text/plain": [
       "<Figure size 720x360 with 3 Axes>"
      ]
     },
     "metadata": {
      "needs_background": "light"
     },
     "output_type": "display_data"
    }
   ],
   "source": [
    "goal = np.array([5.0,5.0])\n",
    "state_0 = np.array([8.0,5.0,np.pi/2])\n",
    "\n",
    "dT = 0.1  # Time step\n",
    "T = 10    # Number of seconds to simulate\n",
    "time = np.arange(0,T,step=dT)\n",
    "\n",
    "# Set the velocity gain and the heading gain\n",
    "Kv = 0.5\n",
    "Kh = 4\n",
    "\n",
    "# The wheel base\n",
    "L = 1\n",
    "\n",
    "# Array to store the states over time\n",
    "states = np.zeros((len(time)+1, 3))\n",
    "states[0,:] = state_0\n",
    "state = state_0.copy()\n",
    "# Arrays to store the controls\n",
    "V = np.zeros(len(time))\n",
    "G = np.zeros(len(time))\n",
    "\n",
    "for i,t in enumerate(time):\n",
    "    ### THE CONTROLLER ###    \n",
    "    v,g = controllerToPoint(goal, state, Kv, Kh)\n",
    "    ######################\n",
    "    \n",
    "    # Put these controls in the bicycle model and observe the new state\n",
    "    vel, v, g = bicycle(state, v, g, L)\n",
    "    state += vel*dT\n",
    "    states[i+1,:] = state\n",
    "\n",
    "    # Store the velocity and steering angle for later displaying\n",
    "    V[i]=v\n",
    "    G[i]=g\n",
    "    \n",
    "# Show the trajectory\n",
    "util.plotTrajectoryGoal(time, states, goal, V, G)\n"
   ]
  },
  {
   "cell_type": "markdown",
   "id": "24566b3e",
   "metadata": {},
   "source": [
    "# 3: Controller to follow a line"
   ]
  },
  {
   "cell_type": "markdown",
   "id": "4fb63c5f",
   "metadata": {},
   "source": [
    "Another useful task for a mobile robot is to follow a line, for instance when navigating through crop rows. We define a line on the ground plane by $ax+by+c=0$. To follow this line, we need two controllers to adjust the steering:\n",
    "\n",
    "1. **Line-approaching controller**:\n",
    "This controller makes the robot turn towards the line to minimize the distance between the robot and the line. This requires to calculate the distance $d$ of the position of the robot $(x,y)$ perpendicular to the line, which can be calculated as:<br><br>\n",
    "$$\n",
    "d = {ax+by+c \\over \\sqrt{a^2+b^2}}\n",
    "$$\n",
    "To then calculate the requires steering angle for this controller:<br><br>\n",
    "$$\n",
    "\\alpha_d=-K_d \\cdot d\n",
    "$$\n",
    "with the gain on the distance-to-line controller $K_d>0$.\n",
    "\n",
    "\n",
    "2. **Line-parallelling controller**:\n",
    "This controller adjusts the orientation of the robot to align the robot with the direction of the line. The direction of the line can be calculated with:<br><br>\n",
    "$$\n",
    "\\theta^* = \\tan^{-1}\\frac{-a}{b}\n",
    "$$\n",
    "This controller then calculates the required steering angle as:<br><br>\n",
    "$$\n",
    "\\alpha_h = K_h \\left(\\theta^* \\circleddash \\theta \\right),\n",
    "$$\n",
    "where the line-heading gain is $K_h>0$.\n",
    "<br><br>\n",
    "\n",
    "The total steering controller is then:\n",
    "\n",
    "$$\n",
    "\\gamma = \\alpha_d + \\alpha_h = -K_d \\cdot d + K_h \\left(\\theta^* \\circleddash \\theta \\right)\n",
    "$$\n",
    "\n",
    "The speed for this line-following controller is set to a constant speed:\n",
    "\n",
    "$$\n",
    "v^* = v_c\n",
    "$$"
   ]
  },
  {
   "cell_type": "markdown",
   "id": "77ed7776",
   "metadata": {},
   "source": [
    "**Exercise:**\n",
    "* The function `controllerFollowLine()` below implements the line-following controller. Finish the code based on the equations above. Some hints:\n",
    "    * For $\\sqrt{\\ldots}$, you can calculate with `np.sqrt(...)`.\n",
    "    * To have a quandrant-aware inverse tangens functin, use: `np.arctan2(...)`"
   ]
  },
  {
   "cell_type": "code",
   "execution_count": 9,
   "id": "7ed26599",
   "metadata": {},
   "outputs": [],
   "source": [
    "def controllerFollowLine(line, state, Kd, Kh, v = 1):\n",
    "    # Controller to follow a line with fixed speed v\n",
    "    \n",
    "    # Unpack the line equation\n",
    "    a,b,c = line\n",
    "    x,y,th = state\n",
    "    \n",
    "    # Calculate the distance to the line and the orientation of the line\n",
    "    d = ...\n",
    "\n",
    "    h = ...\n",
    "    \n",
    "    # Calculate the steering angle from the first controller (line approaching)\n",
    "    a_d = ...\n",
    "    # Calculate the steering angle from the second controller (line paralleling)\n",
    "    a_h = Kh * angdiff(th,h)\n",
    "    \n",
    "    # Get the steering angle for the overall controller\n",
    "    g = ...\n",
    "    \n",
    "    return(v,g)"
   ]
  },
  {
   "cell_type": "markdown",
   "id": "2e729973",
   "metadata": {},
   "source": [
    "**ANSWER:**"
   ]
  },
  {
   "cell_type": "code",
   "execution_count": null,
   "id": "5acf860c",
   "metadata": {},
   "outputs": [],
   "source": [
    "def controllerFollowLine(line, state, Kd, Kh, v = 1):\n",
    "    # Controller to follow a line with fixed speed v\n",
    "    \n",
    "    # Unpack the line equation\n",
    "    a,b,c = line\n",
    "    x,y,th = state\n",
    "    \n",
    "    # Calculate the distance to the line and the orientation of the line\n",
    "    d = (a*x + b*y + c) / np.sqrt(a**2 + b**2)\n",
    "    # Optionally, put a limit on the distance, to not have a too large influence when far from the line\n",
    "    # dmax = 2\n",
    "    # d = np.clip(d, -dmax, dmax)\n",
    "\n",
    "    h = np.arctan2(-a, b)\n",
    "    \n",
    "    # Calculate the steering angle from the first controller (line approaching)\n",
    "    a_d = -Kd * d\n",
    "    # Calculate the steering angle from the second controller (line paralleling)\n",
    "    a_h = Kh * angdiff(th,h)\n",
    "    \n",
    "    # Get the steering angle for the overall controller\n",
    "    g = a_d + a_h\n",
    "    \n",
    "    return(v,g)"
   ]
  },
  {
   "cell_type": "markdown",
   "id": "6d2b9817",
   "metadata": {},
   "source": [
    "In the code below, the controller is used in a simulation. \n",
    "\n",
    "**Exercise:**\n",
    "* Some successful experiments\n",
    "    * In lines 2-9, set the line $[a,b,c] = [1, -2, 4]$, starting pose $(x,y, \\theta) = (5,2,\\frac{\\pi}{4})$ and gains for the controller $K_d = 0.5$ and $Kh = 1.0$ and run the simulation.\n",
    "    * Try different starting points as in Fig 4.7 in the book: $(8,5,\\frac{\\pi}{2}), (5,8,\\pi), (2,5,-\\frac{\\pi}{2})$ and observe the behavior\n",
    "    * In crease and decrease the gain $K_d$. What do you observe? Do the same for $K_h$.\n",
    "* When it fails:\n",
    "    * Set the start pose to $(10,-2,0)$ and put the gains back to the defaults $K_d = 0.5$ and $Kh = 1.0$. What do you see? What could be the reason that the robot does not reach the line? Pay attention to the distance to the line $d$ and the influence thereof on the line-approaching controller. \n",
    "    * Play with the gain for that controller, $K_d$ to let the robot follow the line. \n",
    "    * What would be a better solution to deal with this so that we don't have to tune the gain depending on the starting point?\n",
    "* Different lines:\n",
    "    * The line has a direction $\\tan^{-1}\\frac{-a}{b}$. For the previous $[a,b,c] = [1, -2, 4]$ line, this gives a direction of $-0.78$ rad, which is in the third quadrant, meaning that the robot will go diagionally down and towards the left. To make the robot follow the same line in the other direction, you have to reverse the line with $[a,b,c] = [-a,-b,-c]$. Do so and see if th robot now follows the line diagonally upwards and to the right.\n",
    "    * Try a few other line equations."
   ]
  },
  {
   "cell_type": "code",
   "execution_count": null,
   "id": "b3e1ceb3",
   "metadata": {},
   "outputs": [],
   "source": [
    "# Set the line equation\n",
    "a = ...\n",
    "b = ...\n",
    "c = ...\n",
    "line = np.array([a,b,c])\n",
    "# Set the starting point\n",
    "x = ...\n",
    "y = ...\n",
    "th = ...\n",
    "state_0 = np.array([x,y,th])\n",
    "\n",
    "# Gains for the line-following controller\n",
    "Kd = ...  # Gain for the line-approach controller\n",
    "Kh = ...  # Gain for the line-parallelling controller\n",
    "\n",
    "# The wheel base\n",
    "L = 1\n",
    "# Fixed velocity \n",
    "v = 1\n",
    "\n",
    "# Time (sample time and toral duration) for the simulation\n",
    "dT = 0.1\n",
    "T = 10    # Number of seconds to simulate\n",
    "time = np.arange(0,T,step=dT)\n",
    "\n",
    "# Array to store the states over time\n",
    "states = np.zeros((len(time)+1, 3))\n",
    "states[0,:] = state_0\n",
    "state = state_0.copy()\n",
    "# Arrays to store the controls\n",
    "V = np.zeros(len(time))\n",
    "G = np.zeros(len(time))\n",
    "\n",
    "# Run the simulation\n",
    "for i,t in enumerate(time):\n",
    "    ### THE CONTROLLER ###    \n",
    "    v,g = controllerFollowLine(line, state, Kd, Kh, v)\n",
    "    ######################\n",
    "    \n",
    "    # Put these controls in the bicycle model and observe the new state\n",
    "    vel, v, g = bicycle(state, v, g, L)\n",
    "    state += vel*dT\n",
    "    states[i+1,:] = state\n",
    "    \n",
    "    # Store the velocity and steering angle for later displaying\n",
    "    V[i]=v\n",
    "    G[i]=g\n",
    "\n",
    "# Show the trajectory\n",
    "util.plotTrajectoryLine(time, states, line, V, G)"
   ]
  },
  {
   "cell_type": "markdown",
   "id": "0b3b14ff",
   "metadata": {},
   "source": [
    "**ANSWER:**"
   ]
  },
  {
   "cell_type": "code",
   "execution_count": 10,
   "id": "f9ef55e5",
   "metadata": {},
   "outputs": [
    {
     "name": "stderr",
     "output_type": "stream",
     "text": [
      "/Users/kootstra/anaconda/robotics_mobile/t04_utils.py:102: UserWarning: marker is redundantly defined by the 'marker' keyword argument and the fmt string \"go\" (-> marker='o'). The keyword argument will take precedence.\n",
      "  plt.plot(states[0,0],states[0,1], 'go', marker=vT, markersize=25, alpha=.5)\n"
     ]
    },
    {
     "data": {
      "image/png": "[encoded data removed]",
      "text/plain": [
       "<Figure size 720x360 with 3 Axes>"
      ]
     },
     "metadata": {
      "needs_background": "light"
     },
     "output_type": "display_data"
    }
   ],
   "source": [
    "# Set the line equation\n",
    "line = np.array([1, -2, 4])\n",
    "# Set the starting point\n",
    "state_0 = np.array([5.0,2.0,np.pi/4])\n",
    "\n",
    "# Gains for the line-following controller\n",
    "Kd = 0.5  # Gain for the line-approach controller\n",
    "Kh = 1.0  # Gain for the line-parallelling controller\n",
    "\n",
    "# The wheel base\n",
    "L = 1\n",
    "# Fixed velocity \n",
    "v = 1\n",
    "\n",
    "# Time (sample time and toral duration) for the simulation\n",
    "dT = 0.1\n",
    "T = 10    # Number of seconds to simulate\n",
    "time = np.arange(0,T,step=dT)\n",
    "\n",
    "# Array to store the states over time\n",
    "states = np.zeros((len(time)+1, 3))\n",
    "states[0,:] = state_0\n",
    "state = state_0.copy()\n",
    "# Arrays to store the controls\n",
    "V = np.zeros(len(time))\n",
    "G = np.zeros(len(time))\n",
    "\n",
    "# Run the simulation\n",
    "for i,t in enumerate(time):\n",
    "    ### THE CONTROLLER ###    \n",
    "    v,g = controllerFollowLine(line, state, Kd, Kh, v)\n",
    "    ######################\n",
    "    \n",
    "    # Put these controls in the bicycle model and observe the new state\n",
    "    vel, v, g = bicycle(state, v, g, L)\n",
    "    state += vel*dT\n",
    "    states[i+1,:] = state\n",
    "    \n",
    "    # Store the velocity and steering angle for later displaying\n",
    "    V[i]=v\n",
    "    G[i]=g\n",
    "\n",
    "# Show the trajectory\n",
    "util.plotTrajectoryLine(time, states, line, V, G)\n"
   ]
  },
  {
   "cell_type": "markdown",
   "id": "48b31815",
   "metadata": {},
   "source": [
    "# 4: Controller to follow a trajectory"
   ]
  },
  {
   "cell_type": "markdown",
   "id": "a84a0975",
   "metadata": {},
   "source": [
    "For more complex behavior, it might be impotant for a robot to follow a trajectory, that is, a timed sequenced of points on the xy-plane. Such a trajectory can be predefined, or coming from a motion planner (see later tutorials). For now, we assume that the trajectory is provided.\n",
    "\n",
    "In this controller, we assume a moving goal $(x^*_t,y^*_t)$ that moves along the trajectory with a fixed velocity. We can then use the controller that we used in section 2 of this tutorial to move to the moving goal position, pursuit point.\n",
    "\n",
    "We want the robot to maintain a distance $d^*$ behind the persuit point, which results in the following tracking error:\n",
    "\n",
    "$$\n",
    "e = \\sqrt{ \\left(x^*-x \\right)^2 + \\left(y^*-y \\right)^2} - d^*\n",
    "$$\n",
    "\n",
    "This tracking error is used to determine the velocity, speading up when the robot lacks behind, or slowing down if it is too far. Because the goal is moving, a proportional control is not so useful, as this assumes a stationary point. Instead, we will use a **proportional-integral (PI) controller**, which adds an integral part to the velocity controller:\n",
    "\n",
    "$$\n",
    "v^* = K_v e + K_i \\int e \\, dt\n",
    "$$\n",
    "\n",
    "To control the steering angle, we will use the same controller as used to move to a point, that is:\n",
    "To control the steering angle, we need to look at the angle of the goal relative to the robot, which is:\n",
    "\n",
    "$$\n",
    "\\theta^* = \\tan^{-1}\\frac{y^*-y}{x^*-x}\n",
    "$$\n",
    "\n",
    "$$\n",
    "\\gamma = K_h\\left(\\theta^* \\circleddash \\theta\\right)\n",
    "$$"
   ]
  },
  {
   "cell_type": "markdown",
   "id": "7471c7a2",
   "metadata": {},
   "source": [
    "In the function `controllerToPointPI(...)` below, we will implement the PI-controller to follow a trajectory:\n",
    "**Excercise:** \n",
    "* In this controller, we assume a moving goal that the robot needs to follow. Explain why it is now important to have the integral part adde to the controller.\n",
    "* Finish the code in the function below to implement the controller. Some tips:\n",
    "    * The distance $d^*$ from the pursuit point is `dd` in the function\n",
    "    * `controllerToPointPI.i` is a so called persistent variable, that we will use to update the integral of the error $\\int e \\, dt$. It has been implemented for you already.\n",
    "    * for `v`, calculate $v^*$\n",
    "    * for `h`, calculate $\\theta^*$, the desired heading\n",
    "    * for `g`, calculate $\\gamma$"
   ]
  },
  {
   "cell_type": "code",
   "execution_count": null,
   "id": "f259289b",
   "metadata": {},
   "outputs": [],
   "source": [
    "def controllerToPointPI(goal, state, Kv, Ki, Kh, dT, dd = 0.1):\n",
    "    # Calculate the error (= distance) to the pursuit point, taking dd into account\n",
    "    e = ...\n",
    "    \n",
    "    # For the velocity controller:\n",
    "    # Get the propotional and the integral part\n",
    "    # Note that we store the integral part as an attribute of the function \n",
    "    #      for persistent memory (we need to get the integral sum)\n",
    "    controllerToPointPI.i += e * dT  \n",
    "\n",
    "    v = ...\n",
    "\n",
    "    \n",
    "    # For the steering controller\n",
    "    # Calculate the distance and heading towards the goal\n",
    "    h = ...\n",
    "    \n",
    "    g = ...\n",
    "    \n",
    "    return v,g"
   ]
  },
  {
   "cell_type": "markdown",
   "id": "36eb3a87",
   "metadata": {},
   "source": [
    "**ANSWER:**"
   ]
  },
  {
   "cell_type": "code",
   "execution_count": 21,
   "id": "40893cf3",
   "metadata": {},
   "outputs": [],
   "source": [
    "def controllerToPointPI(goal, state, Kv, Ki, Kh, dT, dd = 0.1):\n",
    "    # Calculate the error (= distance) to the persuit point, which is dd from the goal\n",
    "    e = np.linalg.norm(goal-state[0:2]) - dd\n",
    "    \n",
    "    # For the velocity controller:\n",
    "    # Get the propotional and the integral part\n",
    "    # Note that we store the integral part as an attribute of the function \n",
    "    #      for persistent memory (we need to get the integral sum)\n",
    "    controllerToPointPI.i += e * dT  \n",
    "\n",
    "    v = Kv * e + Ki * controllerToPointPI.i\n",
    "\n",
    "    \n",
    "    # For the steering controller\n",
    "    # Calculate the distance and heading towards the goal\n",
    "    h = np.arctan2(goal[1]-state[1], goal[0]-state[0])\n",
    "    g = Kh * angdiff(state[2], h)\n",
    "    \n",
    "    return v,g"
   ]
  },
  {
   "cell_type": "markdown",
   "id": "5b3be1de",
   "metadata": {},
   "source": [
    "**Exercise:**\n",
    "* In the code block below, the controller is tested. Note that with `controllerToPointPI.i = 0`, the integral part of the controller is initialized to zero. \n",
    "* Run the code and see if the robot can follow the trajectory (dashed red line).\n",
    "* You will see that the speed drops when the robot gets near the waypoint. Can you explain why?\n",
    "* Try some different trajectories by changing the waypoints. The function `util.trajectoryGenerator()` takes the waypoints to create a trajectory of goal locations for every time step, with equal distance between all goal locations. \n",
    "* Try some different gains and observe the differences\n"
   ]
  },
  {
   "cell_type": "code",
   "execution_count": 27,
   "id": "bac55bfd",
   "metadata": {},
   "outputs": [
    {
     "data": {
      "image/png": "[encoded data removed]",
      "text/plain": [
       "<Figure size 720x360 with 3 Axes>"
      ]
     },
     "metadata": {
      "needs_background": "light"
     },
     "output_type": "display_data"
    }
   ],
   "source": [
    "##########################################\n",
    "# Code to test the trajectory controller #\n",
    "##########################################\n",
    "\n",
    "# Set the initial pose of the robot\n",
    "state_0 = np.array([0.0,0.0,0.0])\n",
    "\n",
    "# Total time and time steps for sampling\n",
    "dT = 0.1\n",
    "T = 50    # Number of seconds to simulate\n",
    "time = np.arange(0,T,step=dT)\n",
    "\n",
    "# Get the moving goal trajectory\n",
    "waypoints = np.array([[5,5], [5,30], [40,40], [20,5]])\n",
    "Goal = util.trajectoryGenerator(waypoints, T, len(time))\n",
    "\n",
    "# Set the velocity gain and the heading gain\n",
    "Kv = 0.5\n",
    "Ki = 0.2\n",
    "Kh = 4\n",
    "\n",
    "# The wheel base\n",
    "L = 1\n",
    "\n",
    "\n",
    "\n",
    "# Array to store the states over time\n",
    "states = np.zeros((len(time)+1, 3))\n",
    "states[0,:] = state_0\n",
    "state = state_0.copy()\n",
    "# Arrays to store the controls\n",
    "V = np.zeros(len(time))\n",
    "G = np.zeros(len(time))\n",
    "\n",
    "# Set the integral part of the PI controller to 0\n",
    "controllerToPointPI.i = 0\n",
    "\n",
    "for i,t in enumerate(time):\n",
    "    # Calculate the moving goal target\n",
    "    goal = Goal[i,:]\n",
    "\n",
    "    \n",
    "    ### THE CONTROLLER ###    \n",
    "    v,g = controllerToPointPI(goal, state, Kv, Ki, Kh, dT, dd=2)\n",
    "    ######################\n",
    "        \n",
    "    # Put these controls in the bicycle model and observe the new state\n",
    "    vel, v, g = bicycle(state, v, g, L)\n",
    "    state += vel*dT\n",
    "    states[i+1,:] = state\n",
    "    \n",
    "    # Store the velocity and steering angle for later displaying\n",
    "    V[i]=v\n",
    "    G[i]=g\n",
    "\n",
    "    \n",
    "# Show the trajectory\n",
    "util.plotTrajectoryMovingGoal(time, states, Goal, V, G)"
   ]
  },
  {
   "cell_type": "markdown",
   "id": "de33b9d1",
   "metadata": {},
   "source": [
    "# 5: The unicycle model (differential drive)"
   ]
  },
  {
   "cell_type": "markdown",
   "id": "63195587",
   "metadata": {},
   "source": [
    "**TODO: Include Fig 4.14**\n",
    "<img src=\"https://git.wur.nl/koots006/msc_course_robotics/raw/main/pictures/fig4_14.svg\" width=500>\n",
    "\n",
    "The car-like vehicles have a relatively complex mechanical structure. Robots with differential steering (differential drive) are simpler and therefore more common. The simpelest systems have two wheels, one right and one left, which can move the robot forwards and backwards, and allow to rotate the robot by using different speeds for the left and right wheel. Larger vehicles with differential, that can carry more load, typically have two pairs of wheels at the left and right side with each pair connected to a motor. In practice, robots with two pairs of wheels have some issues with the wheels slipping sideways during turning. However, we ignore that here and assume that the vehicles velocity is by definition $v$ in the vehicle's $x$-direction and zero in the $y$-direction, that is:\n",
    "\n",
    "$$\n",
    "{}^B v = \\left(v,0 \\right)\n",
    "$$\n",
    "where $B$ is the robot's coordinate frame, making also this robot **non-holonomic**.\n",
    "\n",
    "As for the car-like vehicle, the state of the vehicle at time $t$ is $s_t = [x,y,\\theta]$, holding the position, $(x,y)$, and the heading, $\\theta$, of the robot. The robot has one parameter to describe its structure, which is the wheel width, $W$, the distance between the left and right wheel, sometime also called the wheel base.\n",
    "\n",
    "The robot rotates around the instantaneous center of rotation, ICR, depending on the velocity of the left wheel, $v_L$, and the velocity of the right wheel, $v_R$. The left wheel moves along an arc with radius $R_L$ and the right wheel moves along an arc with radius $R_R$. \n",
    "\n",
    "The velocity $v$ of the vehicle is the average of the velocity of the left and the right wheel:\n",
    "\n",
    "$$\n",
    "v = {v_R + v_L \\over 2}\n",
    "$$\n",
    "\n",
    "The angular velocity $\\dot{\\theta}$ is:\n",
    "\n",
    "$$\n",
    "\\dot{\\theta} = \\frac{v_L}{R_L} = \\frac{v_R}{R_R}\n",
    "$$\n",
    "\n",
    "As we know that $R_R = R_L + W$, the angular velocity can be describe in terms of both wheel velocities and the wheel length:\n",
    "\n",
    "$$\n",
    "\\dot{\\theta} = {v_R - v_L \\over W}\n",
    "$$"
   ]
  },
  {
   "cell_type": "markdown",
   "id": "e1a017fb",
   "metadata": {},
   "source": [
    "**Exercise:**\n",
    "* Show that $\\dot{\\theta} = \\frac{v_L}{R_L} = \\frac{v_R}{R_R}$ and $R_R = R_L + W$ results in $\\dot{\\theta} = {v_R - v_L \\over W}$"
   ]
  },
  {
   "cell_type": "markdown",
   "id": "45cc698b",
   "metadata": {},
   "source": [
    "## The unicycle model\n",
    "This gives the following kinematic model for a differential drive vehicle, also called the **unicycle model**:\n",
    "<br><br>\n",
    "\n",
    "$$\n",
    "\\color{red}{\n",
    "\\begin{matrix}\n",
    "\\dot{x} =& v \\cos \\theta \\\\\n",
    "\\dot{y} =& v \\sin \\theta \\\\\n",
    "\\dot{\\theta} =& {v_{\\Delta} \\over W}\n",
    "\\end{matrix}},\n",
    "$$\n",
    "where the difference in left an right wheel velocity $\\color{red}{v_{\\Delta} = v_R - v_L}$ and the average wheel velocity $\\color{red}{v = {v_R + v_L \\over 2}}$.\n",
    "\n",
    "There are some important things to notice:\n",
    "* The turn rate, $\\dot{\\theta}$, is independent from the velocity of the vehcile, but proportional to the difference in velocity of right and left wheels.\n",
    "* This robot can turn on the spot, that is with the velocity of the robot $v=0$, namely when $v_L = -v_R$.\n",
    "\n",
    "### $v_L$ and $v_R$ from the controller output $(v^*, \\gamma)$\n",
    "Because the controllers that we discussed in section 2-4 calculate the desired velocity $v^*$ and the desired steering angle $\\gamma$, we need to also know how this relates to the the velocities of the left and right wheel velocities $v_L$ and $v_R$. By assuming $\\gamma = \\dot{\\theta}$, we can derive the velocities from the equations above:\n",
    "\n",
    "$$\n",
    "v_L = v - \\frac{1}{2}W\\gamma \\\\\n",
    "v_R = v + \\frac{1}{2}W\\gamma \\\\\n",
    "$$"
   ]
  },
  {
   "cell_type": "markdown",
   "id": "52702d5e",
   "metadata": {},
   "source": [
    "**Exercise:**\n",
    "* Based on the equations above, finish the kinematic unicylcle model below.\n",
    "    * As input\n",
    "        * `state` is a numpy array of length 3 containing: $[x_t, y_t, \\theta_t]$\n",
    "        * `v` is the linear velocity, $v$\n",
    "        * `g` is the steering angle $\\gamma$\n",
    "        * `W` is the wheel base $W$\n",
    "    * As output\n",
    "        * The numpy array `[dx, dy, dt]` containing $[\\dot{x}, \\dot{y}, \\dot{\\theta}]$\n"
   ]
  },
  {
   "cell_type": "code",
   "execution_count": null,
   "id": "0982f502",
   "metadata": {},
   "outputs": [],
   "source": [
    "def unicycle(state, v, g, W, vmax=5):\n",
    "    v = np.clip(v, -vmax, vmax)\n",
    "\n",
    "    # Calculate the left and right velocities from the control inputs\n",
    "    vL = ...\n",
    "    vR = ...\n",
    "    \n",
    "    # Set the limits on the speeds of both wheels\n",
    "    vL = np.clip(vL, -vmax, vmax)\n",
    "    vR = np.clip(vR, -vmax, vmax)\n",
    "\n",
    "    # Calculate the linear and angular velocities\n",
    "    dx = ...\n",
    "    dy = ...\n",
    "    dt = ...\n",
    "    \n",
    "    return np.array([dx, dy, dt]), v, g"
   ]
  },
  {
   "cell_type": "markdown",
   "id": "9bfe971d",
   "metadata": {},
   "source": [
    "**ANSWER:**"
   ]
  },
  {
   "cell_type": "code",
   "execution_count": 28,
   "id": "6ede6ce2",
   "metadata": {},
   "outputs": [],
   "source": [
    "def unicycle(state, v, g, W, vmax=5):\n",
    "    v = np.clip(v, -vmax, vmax)\n",
    "    \n",
    "    # Calculate the left and right velocities from the control inputs\n",
    "    vL = v - W*g/2\n",
    "    vR = v + W*g/2\n",
    "    \n",
    "    # Set the limits on the speeds of both wheels\n",
    "    vL = np.clip(vL, -vmax, vmax)\n",
    "    vR = np.clip(vR, -vmax, vmax)\n",
    "    \n",
    "    # Calculate the vehicle velcocity \n",
    "    #v = (vL + vR)/2\n",
    "    \n",
    "    # Calculate the linear and angular velocities\n",
    "    dx = v*np.cos(state[2])\n",
    "    dy = v*np.sin(state[2])\n",
    "    dt = (vR - vL) / W\n",
    "        \n",
    "    return np.array([dx, dy, dt]), v, g"
   ]
  },
  {
   "cell_type": "markdown",
   "id": "449d9f83",
   "metadata": {},
   "source": [
    "**Exercise:**\n",
    "* Copy-paste the code from section 4 that is marked with `# Code to test the trajectory controller #` and change the bicycle model for the unicycle model. Does the robot now drive the correct path?"
   ]
  },
  {
   "cell_type": "code",
   "execution_count": 29,
   "id": "62b7df51",
   "metadata": {},
   "outputs": [
    {
     "data": {
      "image/png": "[encoded data removed]",
      "text/plain": [
       "<Figure size 720x360 with 3 Axes>"
      ]
     },
     "metadata": {
      "needs_background": "light"
     },
     "output_type": "display_data"
    }
   ],
   "source": [
    "# Set the integral part of the PI controller to 0\n",
    "controllerToPointPI.i = 0\n",
    "\n",
    "# Total time and time steps for sampling\n",
    "dT = 0.1\n",
    "T = 50    # Number of seconds to simulate\n",
    "time = np.arange(0,T,step=dT)\n",
    "\n",
    "# Set the initial pose of the robot\n",
    "state_0 = np.array([0.0,0.0,0.0])\n",
    "\n",
    "# Get the goal trajectory\n",
    "waypoints = np.array([[5,5], [5,30], [40,40], [20,5]])\n",
    "Goal = util.trajectoryGenerator(waypoints, T, len(time))\n",
    "\n",
    "# Set the velocity gain and the heading gain\n",
    "Kv = 0.5\n",
    "Ki = 0.2\n",
    "Kh = 4\n",
    "\n",
    "# The wheel base\n",
    "W = 1\n",
    "\n",
    "\n",
    "# Array to store the states over time\n",
    "states = np.zeros((len(time)+1, 3))\n",
    "states[0,:] = state_0\n",
    "state = state_0.copy()\n",
    "# Arrays to store the controls\n",
    "V = np.zeros(len(time))\n",
    "G = np.zeros(len(time))\n",
    "\n",
    "    \n",
    "for i,t in enumerate(time):\n",
    "    # Calculate the moving goal target\n",
    "    goal = Goal[i,:]\n",
    "\n",
    "    \n",
    "    ### THE CONTROLLER ###    \n",
    "    v,g = controllerToPointPI(goal, state, Kv, Ki, Kh, dT, dd=2)\n",
    "    ######################\n",
    "        \n",
    "    # Put these controls in the bicycle model and observe the new state\n",
    "    vel, v, g = unicycle(state, v, g, W)\n",
    "    state += vel*dT\n",
    "    states[i+1,:] = state\n",
    "    \n",
    "    # Store the velocity and steering angle for later displaying\n",
    "    V[i]=v\n",
    "    G[i]=g\n",
    "\n",
    "    \n",
    "# Show the trajectory\n",
    "util.plotTrajectoryMovingGoal(time, states, Goal, V, G)"
   ]
  },
  {
   "cell_type": "code",
   "execution_count": null,
   "id": "65531828",
   "metadata": {},
   "outputs": [],
   "source": []
  }
 ],
 "metadata": {
  "kernelspec": {
   "display_name": "Python 3.7.13 ('WUR')",
   "language": "python",
   "name": "python3"
  },
  "language_info": {
   "codemirror_mode": {
    "name": "ipython",
    "version": 3
   },
   "file_extension": ".py",
   "mimetype": "text/x-python",
   "name": "python",
   "nbconvert_exporter": "python",
   "pygments_lexer": "ipython3",
   "version": "3.7.13"
  },
  "vscode": {
   "interpreter": {
    "hash": "ab7080e6acaba1ec8829ee5fa7d586622aa9352b81f798e9e7c44476ffaa0d9e"
   }
  }
 },
 "nbformat": 4,
 "nbformat_minor": 5
}
